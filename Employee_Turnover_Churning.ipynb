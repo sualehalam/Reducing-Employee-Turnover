{
  "cells": [
    {
      "cell_type": "code",
      "execution_count": null,
      "metadata": {
        "id": "jerfAUswqAk9",
        "outputId": "cfea3cb1-96d4-4266-e83c-6d3b35465dcc"
      },
      "outputs": [
        {
          "name": "stderr",
          "output_type": "stream",
          "text": [
            "D:\\Users\\User\\Anaconda3\\lib\\site-packages\\statsmodels\\tools\\_testing.py:19: FutureWarning: pandas.util.testing is deprecated. Use the functions in the public API at pandas.testing instead.\n",
            "  import pandas.util.testing as tm\n"
          ]
        }
      ],
      "source": [
        "import pandas as pd\n",
        "import numpy as np\n",
        "import seaborn as sns\n",
        "import matplotlib.pyplot as plt\n",
        "import scikitplot as skplt"
      ]
    },
    {
      "cell_type": "code",
      "execution_count": null,
      "metadata": {
        "id": "c0V2kLAjqAlF"
      },
      "outputs": [],
      "source": [
        "df = pd.read_csv('employee_churn_data.csv')"
      ]
    },
    {
      "cell_type": "code",
      "execution_count": null,
      "metadata": {
        "id": "B6fvz_m0qAlG",
        "outputId": "0d746762-e53f-4b59-d5af-769e22b53cbb"
      },
      "outputs": [
        {
          "data": {
            "text/html": [
              "<div>\n",
              "<style scoped>\n",
              "    .dataframe tbody tr th:only-of-type {\n",
              "        vertical-align: middle;\n",
              "    }\n",
              "\n",
              "    .dataframe tbody tr th {\n",
              "        vertical-align: top;\n",
              "    }\n",
              "\n",
              "    .dataframe thead th {\n",
              "        text-align: right;\n",
              "    }\n",
              "</style>\n",
              "<table border=\"1\" class=\"dataframe\">\n",
              "  <thead>\n",
              "    <tr style=\"text-align: right;\">\n",
              "      <th></th>\n",
              "      <th>department</th>\n",
              "      <th>promoted</th>\n",
              "      <th>review</th>\n",
              "      <th>projects</th>\n",
              "      <th>salary</th>\n",
              "      <th>tenure</th>\n",
              "      <th>satisfaction</th>\n",
              "      <th>bonus</th>\n",
              "      <th>avg_hrs_month</th>\n",
              "      <th>left</th>\n",
              "    </tr>\n",
              "  </thead>\n",
              "  <tbody>\n",
              "    <tr>\n",
              "      <th>0</th>\n",
              "      <td>operations</td>\n",
              "      <td>0</td>\n",
              "      <td>0.577569</td>\n",
              "      <td>3</td>\n",
              "      <td>low</td>\n",
              "      <td>5.0</td>\n",
              "      <td>0.626759</td>\n",
              "      <td>0</td>\n",
              "      <td>180.866070</td>\n",
              "      <td>no</td>\n",
              "    </tr>\n",
              "    <tr>\n",
              "      <th>1</th>\n",
              "      <td>operations</td>\n",
              "      <td>0</td>\n",
              "      <td>0.751900</td>\n",
              "      <td>3</td>\n",
              "      <td>medium</td>\n",
              "      <td>6.0</td>\n",
              "      <td>0.443679</td>\n",
              "      <td>0</td>\n",
              "      <td>182.708149</td>\n",
              "      <td>no</td>\n",
              "    </tr>\n",
              "    <tr>\n",
              "      <th>2</th>\n",
              "      <td>support</td>\n",
              "      <td>0</td>\n",
              "      <td>0.722548</td>\n",
              "      <td>3</td>\n",
              "      <td>medium</td>\n",
              "      <td>6.0</td>\n",
              "      <td>0.446823</td>\n",
              "      <td>0</td>\n",
              "      <td>184.416084</td>\n",
              "      <td>no</td>\n",
              "    </tr>\n",
              "    <tr>\n",
              "      <th>3</th>\n",
              "      <td>logistics</td>\n",
              "      <td>0</td>\n",
              "      <td>0.675158</td>\n",
              "      <td>4</td>\n",
              "      <td>high</td>\n",
              "      <td>8.0</td>\n",
              "      <td>0.440139</td>\n",
              "      <td>0</td>\n",
              "      <td>188.707545</td>\n",
              "      <td>no</td>\n",
              "    </tr>\n",
              "    <tr>\n",
              "      <th>4</th>\n",
              "      <td>sales</td>\n",
              "      <td>0</td>\n",
              "      <td>0.676203</td>\n",
              "      <td>3</td>\n",
              "      <td>high</td>\n",
              "      <td>5.0</td>\n",
              "      <td>0.577607</td>\n",
              "      <td>1</td>\n",
              "      <td>179.821083</td>\n",
              "      <td>no</td>\n",
              "    </tr>\n",
              "  </tbody>\n",
              "</table>\n",
              "</div>"
            ],
            "text/plain": [
              "   department  promoted    review  projects  salary  tenure  satisfaction  \\\n",
              "0  operations         0  0.577569         3     low     5.0      0.626759   \n",
              "1  operations         0  0.751900         3  medium     6.0      0.443679   \n",
              "2     support         0  0.722548         3  medium     6.0      0.446823   \n",
              "3   logistics         0  0.675158         4    high     8.0      0.440139   \n",
              "4       sales         0  0.676203         3    high     5.0      0.577607   \n",
              "\n",
              "   bonus  avg_hrs_month left  \n",
              "0      0     180.866070   no  \n",
              "1      0     182.708149   no  \n",
              "2      0     184.416084   no  \n",
              "3      0     188.707545   no  \n",
              "4      1     179.821083   no  "
            ]
          },
          "execution_count": 3,
          "metadata": {},
          "output_type": "execute_result"
        }
      ],
      "source": [
        "df.head()"
      ]
    },
    {
      "cell_type": "markdown",
      "metadata": {
        "id": "sWIxaqVhqAlG"
      },
      "source": [
        "Taking a closer look at the dataset with help of \"head()\" function of pandas library which returns first five observations."
      ]
    },
    {
      "cell_type": "code",
      "execution_count": null,
      "metadata": {
        "id": "KyTXgczUqAlI",
        "outputId": "f5fbd46c-f61d-4d01-8ed5-c55247235cab"
      },
      "outputs": [
        {
          "data": {
            "text/plain": [
              "(9540, 10)"
            ]
          },
          "execution_count": 4,
          "metadata": {},
          "output_type": "execute_result"
        }
      ],
      "source": [
        "df.shape"
      ]
    },
    {
      "cell_type": "markdown",
      "metadata": {
        "id": "obS031CSqAlK"
      },
      "source": [
        "To find and understand the total rows and columns of the dataset. This shows that the dataset has 9450 rows, and 10 columns.\n",
        "\n",
        "This means there are a total of 9540 employees in this dataset"
      ]
    },
    {
      "cell_type": "code",
      "execution_count": null,
      "metadata": {
        "id": "34-ChZWeqAlL",
        "outputId": "9fb039a3-a044-4813-9c8c-c0f600dfee87"
      },
      "outputs": [
        {
          "name": "stdout",
          "output_type": "stream",
          "text": [
            "Unique department's count: 10\n",
            "['operations' 'support' 'logistics' 'sales' 'IT' 'admin' 'engineering'\n",
            " 'marketing' 'finance' 'retail']\n",
            "\n",
            "Unique promoted's count: 2\n",
            "[0 1]\n",
            "\n",
            "Unique review's count: 9540\n",
            "[0.57756866 0.75189966 0.72254845 ... 0.55797965 0.58444574 0.62637329]\n",
            "\n",
            "Unique projects's count: 4\n",
            "[3 4 2 5]\n",
            "\n",
            "Unique salary's count: 3\n",
            "['low' 'medium' 'high']\n",
            "\n",
            "Unique tenure's count: 11\n",
            "[ 5.  6.  8.  7.  4.  3.  2.  9. 10. 11. 12.]\n",
            "\n",
            "Unique satisfaction's count: 9540\n",
            "[0.62675897 0.44367895 0.44682322 ... 0.70542476 0.60728698 0.70645479]\n",
            "\n",
            "Unique bonus's count: 2\n",
            "[0 1]\n",
            "\n",
            "Unique avg_hrs_month's count: 9540\n",
            "[180.86606967 182.70814896 184.41608404 ... 186.53100819 187.64136977\n",
            " 185.92093423]\n",
            "\n",
            "Unique left's count: 2\n",
            "['no' 'yes']\n",
            "\n"
          ]
        }
      ],
      "source": [
        "for i in df.columns:\n",
        "    print(f\"Unique {i}'s count: {df[i].nunique()}\")\n",
        "    print(f\"{df[i].unique()}\\n\")"
      ]
    },
    {
      "cell_type": "markdown",
      "metadata": {
        "id": "kgLxQ8aXqAlM"
      },
      "source": [
        "To get a better and deeper understanding of all the features in the dataset"
      ]
    },
    {
      "cell_type": "markdown",
      "metadata": {
        "id": "wTbbVLJ3qAlN"
      },
      "source": [
        "### Now we have a deeper understanding of all attributes:\n",
        "\n",
        "1. Departments (There are a total of 10 different departments including Operations, Support, Logistics, Sales, IT, Admin, Engineering, Marketing, Finance and Retail)\n",
        "\n",
        "2. Promoted (There are 2 different values in Promoted column 0 and 1 which indicates whether employee has received a promotion or not)\n",
        "\n",
        "3. Review (This is the numerical value which indicates the composite score the employee received in the last evaluation)\n",
        "\n",
        "4. Project (This indicates the number of different projects the employee is currently involved in. This can include 2, 3, 4 or 5)\n",
        "\n",
        "5. Salary (This column indicates the salary paid to the employees. It includes 3 tiers of salaries including low, medium, and high)\n",
        "\n",
        "6. Tenure (This column indicates the total time the employee has been at the company. It can range from 2 years to a total of 12 years)\n",
        "\n",
        "7. Satisfaction (This column is a satisfaction score which is employees satisfaction level from the surveys)\n",
        "\n",
        "8. Bonus (This column indicates whether the employee has received any bonus or not indicated by 'yes' or 'no')\n",
        "\n",
        "9. Avg_Hours_Month (This column indicates the total monthly hours of the employee in the company)\n",
        "\n",
        "10. Left (This column indicates whether the employee has left the company or still exists in the company)"
      ]
    },
    {
      "cell_type": "markdown",
      "metadata": {
        "id": "WAUyvpquqAlO"
      },
      "source": [
        "---------------\n",
        "Further analyzing the 'left' column from the dataset to see how many employees left"
      ]
    },
    {
      "cell_type": "code",
      "execution_count": null,
      "metadata": {
        "id": "1GWKaXDDqAlP",
        "outputId": "f79ec4d4-b5fa-4ed6-f04e-f6f7a29a2e7d"
      },
      "outputs": [
        {
          "data": {
            "text/plain": [
              "no     6756\n",
              "yes    2784\n",
              "Name: left, dtype: int64"
            ]
          },
          "execution_count": 6,
          "metadata": {},
          "output_type": "execute_result"
        }
      ],
      "source": [
        "df['left'].value_counts()"
      ]
    },
    {
      "cell_type": "markdown",
      "metadata": {
        "id": "gY6pvkXmqAlQ"
      },
      "source": [
        "From the dataset we can see that **2784** employees have left the company out of approximately 9000 total employees indicating a very high turnover rate.\n",
        "\n",
        "We will calculate the employee turnover rate in the next few steps after analyzing the total employees left\n"
      ]
    },
    {
      "cell_type": "markdown",
      "metadata": {
        "id": "CtwJbqx2qAlQ"
      },
      "source": [
        "## Data Analysis & Visualizing the Employees turnover"
      ]
    },
    {
      "cell_type": "code",
      "execution_count": null,
      "metadata": {
        "id": "XwOIAUqWqAlR",
        "outputId": "1eb4dcc4-e28c-42f7-ccec-254acc78559d"
      },
      "outputs": [
        {
          "data": {
            "image/png": "[encoded data removed]",
            "text/plain": [
              "<Figure size 432x288 with 1 Axes>"
            ]
          },
          "metadata": {
            "needs_background": "light"
          },
          "output_type": "display_data"
        }
      ],
      "source": [
        "g = sns.countplot(df['left'])\n",
        "plt.xlabel('Employees Left Class', fontsize=16)\n",
        "plt.ylabel('Employees Count', fontsize=16)\n",
        "g.set_xticklabels(['Employee Retained (yes)','Employees Left (no)'])\n",
        "plt.show()"
      ]
    },
    {
      "cell_type": "markdown",
      "metadata": {
        "id": "UaNLsSzKqAlS"
      },
      "source": [
        "We can clearly see that approximately ~3000 employees have left the company and around ~6700 employees have stayed in the company."
      ]
    },
    {
      "cell_type": "markdown",
      "metadata": {
        "id": "6ERU3r39qAlS"
      },
      "source": [
        "### Calculating Employee Turnover Rate"
      ]
    },
    {
      "cell_type": "code",
      "execution_count": null,
      "metadata": {
        "id": "TPYz9KjnqAlS",
        "outputId": "fe054ecd-56bf-464e-82e6-4b067b855437"
      },
      "outputs": [
        {
          "name": "stdout",
          "output_type": "stream",
          "text": [
            "The employee turnover rate is  29.18238993710692 %\n"
          ]
        }
      ],
      "source": [
        "emp_turnover = df['left'].value_counts()[1] / df.shape[0] * 100\n",
        "print('The employee turnover rate is ', emp_turnover, '%')"
      ]
    },
    {
      "cell_type": "markdown",
      "metadata": {
        "id": "OzLIOmkXqAlT"
      },
      "source": [
        "**The employee turnover rate is ~29% which is very high and needs to be reduced immediately by the company**"
      ]
    },
    {
      "cell_type": "code",
      "execution_count": null,
      "metadata": {
        "id": "RQmXJcdoqAlU",
        "outputId": "4494139d-9f78-429f-ccf5-72c86ba0880a"
      },
      "outputs": [
        {
          "data": {
            "image/png": "[encoded data removed]",
            "text/plain": [
              "<Figure size 432x288 with 1 Axes>"
            ]
          },
          "metadata": {
            "needs_background": "light"
          },
          "output_type": "display_data"
        }
      ],
      "source": [
        "num_projects=df.groupby('projects').count()\n",
        "plt.bar(num_projects.index.values, num_projects['satisfaction'])\n",
        "plt.xlabel('Number of Projects')\n",
        "plt.ylabel('Number of Employees')\n",
        "plt.show()"
      ]
    },
    {
      "cell_type": "markdown",
      "metadata": {
        "id": "Mh5MlHOqqAlU"
      },
      "source": [
        "**We can see from the bargraph that most of the employees are engaged in 3 projects at a time and very few employees are engaged in 5 projects simultaneously**"
      ]
    },
    {
      "cell_type": "markdown",
      "metadata": {
        "id": "NJH43O9eqAlV"
      },
      "source": [
        "Lets visualize each attribute in the dataset with the help of a bargraph to understand the dataset in much more detail"
      ]
    },
    {
      "cell_type": "code",
      "execution_count": null,
      "metadata": {
        "id": "ufF73frcqAlV",
        "outputId": "b0756484-0dc0-43b7-8a46-fccdb9f2f5eb"
      },
      "outputs": [
        {
          "data": {
            "image/png": "[encoded data removed]",
            "text/plain": [
              "<Figure size 1008x1368 with 7 Axes>"
            ]
          },
          "metadata": {
            "needs_background": "light"
          },
          "output_type": "display_data"
        }
      ],
      "source": [
        "features=['projects', 'promoted','department','left', 'bonus','tenure','salary']\n",
        "fig=plt.subplots(figsize=(14,19))\n",
        "for i, j in enumerate(features):\n",
        "    plt.subplot(4, 2, i+1)\n",
        "    plt.subplots_adjust(hspace = 1.0)\n",
        "    sns.countplot(x=j, data = df)\n",
        "    plt.ylabel('Employee Count', fontsize=10)\n",
        "    plt.xticks(rotation=90)\n",
        "    plt.title(\"No. of employee\")"
      ]
    },
    {
      "cell_type": "markdown",
      "metadata": {
        "id": "s7kPS9OnqAlV"
      },
      "source": [
        "### Following observations can be noted from the above Data Visualizations:\n",
        "\n",
        "- Majority of the employees are busy with 3 projects and very few employees are involved in 5 projects at a time\n",
        "- Very few employees have received promotion in the last 2 years. The average promotion rate of employees is approximately 3%\n",
        "- The Sales department is having maximum number of employees while IT department has the least number of employees\n",
        "- The employee turnover rate is approximately 29.1% which is very high.\n",
        "- Roughly 30% of the employees have received bonus\n",
        "- Most of the employees have spent a tenure of 6 years\n",
        "- The maximum tenure served by employees is 12 years and minimum tenure served by employee is 2 years\n",
        "- Most of the employees are earning a medium salary and very few employees are earning low and high salary    "
      ]
    },
    {
      "cell_type": "code",
      "execution_count": null,
      "metadata": {
        "scrolled": true,
        "id": "eECWlXgUqAlW",
        "outputId": "ab44d8f5-c6c5-442b-e9d1-d45208f55641"
      },
      "outputs": [
        {
          "data": {
            "text/plain": [
              "3.0293501048218032"
            ]
          },
          "execution_count": 114,
          "metadata": {},
          "output_type": "execute_result"
        }
      ],
      "source": [
        "df['promoted'].value_counts()[1]/df.shape[0] * 100"
      ]
    },
    {
      "cell_type": "markdown",
      "metadata": {
        "id": "1EFCNpIAqAlW"
      },
      "source": [
        "The average promotion rate of employees is approximately 3.02%\n",
        "\n",
        "------------"
      ]
    },
    {
      "cell_type": "markdown",
      "metadata": {
        "id": "5wxKTDgFqAlX"
      },
      "source": [
        "Further analyzing the department column using describe() function to understand each department in more detail"
      ]
    },
    {
      "cell_type": "code",
      "execution_count": null,
      "metadata": {
        "id": "3UqRiBiNqAlX",
        "outputId": "69f09fb5-6444-49c0-b872-660b7b2800ce"
      },
      "outputs": [
        {
          "data": {
            "text/plain": [
              "count      9540\n",
              "unique       10\n",
              "top       sales\n",
              "freq       1883\n",
              "Name: department, dtype: object"
            ]
          },
          "execution_count": 101,
          "metadata": {},
          "output_type": "execute_result"
        }
      ],
      "source": [
        "df['department'].describe()"
      ]
    },
    {
      "cell_type": "code",
      "execution_count": null,
      "metadata": {
        "id": "z93Sax_uqAlX",
        "outputId": "e82c1f7c-c2e6-4d14-c332-188423356ce8"
      },
      "outputs": [
        {
          "data": {
            "text/plain": [
              "sales          1883\n",
              "retail         1541\n",
              "operations     1522\n",
              "engineering    1516\n",
              "marketing       802\n",
              "support         735\n",
              "admin           423\n",
              "finance         402\n",
              "logistics       360\n",
              "IT              356\n",
              "Name: department, dtype: int64"
            ]
          },
          "execution_count": 111,
          "metadata": {},
          "output_type": "execute_result"
        }
      ],
      "source": [
        "df['department'].value_counts()"
      ]
    },
    {
      "cell_type": "markdown",
      "metadata": {
        "id": "kFAo1Xa0qAlY"
      },
      "source": [
        "Further verified that Sales is the top department with most employees and IT is the department with least employees"
      ]
    },
    {
      "cell_type": "markdown",
      "metadata": {
        "id": "dZB-EqAuqAlY"
      },
      "source": [
        "## Research Question 1 (Which department has the highest employee turnover? Which one has the lowest?)"
      ]
    },
    {
      "cell_type": "code",
      "execution_count": null,
      "metadata": {
        "id": "vhWsI8lIqAlZ",
        "outputId": "e11d047d-ac1b-40a2-f7d3-b19c4028e450"
      },
      "outputs": [
        {
          "data": {
            "text/plain": [
              "array(['operations', 'support', 'logistics', 'sales', 'IT', 'admin',\n",
              "       'engineering', 'marketing', 'finance', 'retail'], dtype=object)"
            ]
          },
          "execution_count": 277,
          "metadata": {},
          "output_type": "execute_result"
        }
      ],
      "source": [
        "df['department'].unique()"
      ]
    },
    {
      "cell_type": "markdown",
      "metadata": {
        "id": "XRYnQqDKqAlZ"
      },
      "source": [
        "We have a total of 10 different departments in this dataset. Let's see which department has the highest employee turnover and which department has the lowest"
      ]
    },
    {
      "cell_type": "code",
      "execution_count": null,
      "metadata": {
        "id": "OKhrrgbsqAlZ",
        "outputId": "d912dff2-4ba7-4a56-f38a-43a81d187847"
      },
      "outputs": [
        {
          "name": "stdout",
          "output_type": "stream",
          "text": [
            "no     304\n",
            "yes    119\n",
            "Name: left, dtype: int64\n"
          ]
        },
        {
          "data": {
            "text/plain": [
              "0.39144736842105265"
            ]
          },
          "execution_count": 290,
          "metadata": {},
          "output_type": "execute_result"
        }
      ],
      "source": [
        "print(df[df['department']=='admin']['left'].value_counts())\n",
        "df[df['department']=='admin']['left'].value_counts()[1]/df[df['department']=='admin']['left'].value_counts()[0]"
      ]
    },
    {
      "cell_type": "markdown",
      "metadata": {
        "id": "Z94EtZujqAla"
      },
      "source": [
        "Employee turnover rate for Admin department is *39.1%*"
      ]
    },
    {
      "cell_type": "code",
      "execution_count": null,
      "metadata": {
        "id": "x76KN9LEqAla",
        "outputId": "e1115993-4157-4779-d905-43206858e8c7"
      },
      "outputs": [
        {
          "name": "stdout",
          "output_type": "stream",
          "text": [
            "no     1346\n",
            "yes     537\n",
            "Name: left, dtype: int64\n"
          ]
        },
        {
          "data": {
            "text/plain": [
              "0.39895988112927194"
            ]
          },
          "execution_count": 291,
          "metadata": {},
          "output_type": "execute_result"
        }
      ],
      "source": [
        "print(df[df['department']=='sales']['left'].value_counts())\n",
        "df[df['department']=='sales']['left'].value_counts()[1]/df[df['department']=='sales']['left'].value_counts()[0]"
      ]
    },
    {
      "cell_type": "markdown",
      "metadata": {
        "id": "xKtbzaSZqAlb"
      },
      "source": [
        "Employee turnover rate for Sales deparment is *39.8%*"
      ]
    },
    {
      "cell_type": "code",
      "execution_count": null,
      "metadata": {
        "scrolled": true,
        "id": "GABnR-FUqAlb",
        "outputId": "254cf22f-a1a2-49a4-b52f-a7c72eccf71e"
      },
      "outputs": [
        {
          "name": "stdout",
          "output_type": "stream",
          "text": [
            "no     249\n",
            "yes    111\n",
            "Name: left, dtype: int64\n"
          ]
        },
        {
          "data": {
            "text/plain": [
              "0.4457831325301205"
            ]
          },
          "execution_count": 292,
          "metadata": {},
          "output_type": "execute_result"
        }
      ],
      "source": [
        "print(df[df['department']=='logistics']['left'].value_counts())\n",
        "df[df['department']=='logistics']['left'].value_counts()[1]/df[df['department']=='logistics']['left'].value_counts()[0]"
      ]
    },
    {
      "cell_type": "markdown",
      "metadata": {
        "id": "cFEgU58TqAlb"
      },
      "source": [
        "Employee turnover rate for Logistics department is *44.5%*"
      ]
    },
    {
      "cell_type": "code",
      "execution_count": null,
      "metadata": {
        "id": "jRr3ACHUqAlc",
        "outputId": "cd1c8e2b-5f2a-40eb-a6f7-e78d5f6a64f7"
      },
      "outputs": [
        {
          "name": "stdout",
          "output_type": "stream",
          "text": [
            "no     523\n",
            "yes    212\n",
            "Name: left, dtype: int64\n"
          ]
        },
        {
          "data": {
            "text/plain": [
              "0.40535372848948376"
            ]
          },
          "execution_count": 293,
          "metadata": {},
          "output_type": "execute_result"
        }
      ],
      "source": [
        "print(df[df['department']=='support']['left'].value_counts())\n",
        "df[df['department']=='support']['left'].value_counts()[1]/df[df['department']=='support']['left'].value_counts()[0]"
      ]
    },
    {
      "cell_type": "markdown",
      "metadata": {
        "id": "xuGVek1qqAln"
      },
      "source": [
        "Employee turnover rate for Support department is *40.5%*"
      ]
    },
    {
      "cell_type": "code",
      "execution_count": null,
      "metadata": {
        "id": "llg1XbVeqAlo",
        "outputId": "6d2d343e-9929-4b50-c562-507b7443d578"
      },
      "outputs": [
        {
          "data": {
            "text/plain": [
              "0.44715447154471544"
            ]
          },
          "execution_count": 75,
          "metadata": {},
          "output_type": "execute_result"
        }
      ],
      "source": [
        "print(df[df['department']=='IT']['left'].value_counts())\n",
        "df[df['department']=='IT']['left'].value_counts()[1]/df[df['department']=='IT']['left'].value_counts()[0]"
      ]
    },
    {
      "cell_type": "markdown",
      "metadata": {
        "id": "1JsvRD73qAlo"
      },
      "source": [
        "**Highest employee turnover rate is 44.7% in the department of IT**"
      ]
    },
    {
      "cell_type": "code",
      "execution_count": null,
      "metadata": {
        "id": "LWwJX7WCqAlo",
        "outputId": "439bbd86-0c5e-4a6c-ee08-adc5fe7dc1b8"
      },
      "outputs": [
        {
          "name": "stdout",
          "output_type": "stream",
          "text": [
            "no     1086\n",
            "yes     436\n",
            "Name: left, dtype: int64\n"
          ]
        },
        {
          "data": {
            "text/plain": [
              "0.4014732965009208"
            ]
          },
          "execution_count": 294,
          "metadata": {},
          "output_type": "execute_result"
        }
      ],
      "source": [
        "print(df[df['department']=='operations']['left'].value_counts())\n",
        "df[df['department']=='operations']['left'].value_counts()[1]/df[df['department']=='operations']['left'].value_counts()[0]"
      ]
    },
    {
      "cell_type": "markdown",
      "metadata": {
        "id": "3xLPW_xhqAlp"
      },
      "source": [
        "Operation department's employee turnover rate is *40.1%*"
      ]
    },
    {
      "cell_type": "code",
      "execution_count": null,
      "metadata": {
        "id": "dA1M5nbgqAlp",
        "outputId": "9cf87077-c240-4051-8e0a-dbff7de4c318"
      },
      "outputs": [
        {
          "name": "stdout",
          "output_type": "stream",
          "text": [
            "no     1070\n",
            "yes     471\n",
            "Name: left, dtype: int64\n"
          ]
        },
        {
          "data": {
            "text/plain": [
              "0.44018691588785047"
            ]
          },
          "execution_count": 282,
          "metadata": {},
          "output_type": "execute_result"
        }
      ],
      "source": [
        "print(df[df['department']=='retail']['left'].value_counts())\n",
        "\n",
        "df[df['department']=='retail']['left'].value_counts()[1]/ df[df['department']=='retail']['left'].value_counts()[0]"
      ]
    },
    {
      "cell_type": "markdown",
      "metadata": {
        "id": "w_sZmNIRqAlq"
      },
      "source": [
        "Retail departmnt has an employee turnover rate of *44.0%*"
      ]
    },
    {
      "cell_type": "code",
      "execution_count": null,
      "metadata": {
        "id": "TOowjD9yqAlq",
        "outputId": "2f6fcab3-bc91-422e-d77f-8b8f3543a70f"
      },
      "outputs": [
        {
          "name": "stdout",
          "output_type": "stream",
          "text": [
            "no     559\n",
            "yes    243\n",
            "Name: left, dtype: int64\n"
          ]
        },
        {
          "data": {
            "text/plain": [
              "0.4347048300536673"
            ]
          },
          "execution_count": 286,
          "metadata": {},
          "output_type": "execute_result"
        }
      ],
      "source": [
        "print(df[df['department']=='marketing']['left'].value_counts())\n",
        "\n",
        "df[df['department']=='marketing']['left'].value_counts()[1]/df[df['department']=='marketing']['left'].value_counts()[0]"
      ]
    },
    {
      "cell_type": "markdown",
      "metadata": {
        "id": "sQ_L_neAqAlq"
      },
      "source": [
        "Marketing department has an employee turnover rate of *43.4%*"
      ]
    },
    {
      "cell_type": "code",
      "execution_count": null,
      "metadata": {
        "id": "HjDmWsQ_qAlr",
        "outputId": "605268da-189a-40a1-cf19-418672d98420"
      },
      "outputs": [
        {
          "name": "stdout",
          "output_type": "stream",
          "text": [
            "no     1079\n",
            "yes     437\n",
            "Name: left, dtype: int64\n"
          ]
        },
        {
          "data": {
            "text/plain": [
              "0.40500463392029656"
            ]
          },
          "execution_count": 287,
          "metadata": {},
          "output_type": "execute_result"
        }
      ],
      "source": [
        "print(df[df['department']=='engineering']['left'].value_counts())\n",
        "\n",
        "df[df['department']=='engineering']['left'].value_counts()[1]/df[df['department']=='engineering']['left'].value_counts()[0]"
      ]
    },
    {
      "cell_type": "markdown",
      "metadata": {
        "id": "4nthQNjdqAlr"
      },
      "source": [
        "Engineering department has an employee turnover rate of *40.5%*"
      ]
    },
    {
      "cell_type": "code",
      "execution_count": null,
      "metadata": {
        "scrolled": true,
        "id": "MOB6VY07qAlr",
        "outputId": "5be2f859-d700-4e94-eafc-5903e40d0f38"
      },
      "outputs": [
        {
          "name": "stdout",
          "output_type": "stream",
          "text": [
            "no     294\n",
            "yes    108\n",
            "Name: left, dtype: int64\n"
          ]
        },
        {
          "data": {
            "text/plain": [
              "0.3673469387755102"
            ]
          },
          "execution_count": 285,
          "metadata": {},
          "output_type": "execute_result"
        }
      ],
      "source": [
        "print(df[df['department']=='finance']['left'].value_counts())\n",
        "\n",
        "df[df['department']=='finance']['left'].value_counts()[1] / df[df['department']=='finance']['left'].value_counts()[0]"
      ]
    },
    {
      "cell_type": "markdown",
      "metadata": {
        "id": "rbmaSileqAls"
      },
      "source": [
        "**Lowest employee turnover rate is 36.7% in Finance department**"
      ]
    },
    {
      "cell_type": "markdown",
      "metadata": {
        "id": "PHey-YsSqAls"
      },
      "source": [
        "### Hence we can finally conclude that the lowest employee turnover rate is in *Finance* department while the highest employee turnover rate is in *IT* department**\n",
        "\n",
        "\n",
        "The company needs to pay immediate attention towards the IT department otherwise it can have a negative impact on the overall business.\n",
        "\n",
        "Moreover, the company must follow similar practices of Finance department across all the departments to maintain maximum employee turnover rate"
      ]
    },
    {
      "cell_type": "markdown",
      "metadata": {
        "id": "_JuciOrRqAls"
      },
      "source": [
        "## Research Question 2 (Investigate which variables seem to be better predictors of employee departure)"
      ]
    },
    {
      "cell_type": "code",
      "execution_count": null,
      "metadata": {
        "scrolled": true,
        "id": "i5kiv2kGqAlt",
        "outputId": "4f37006d-5a77-4be9-908e-3b2ffd3ea8d6"
      },
      "outputs": [
        {
          "data": {
            "image/png": "[encoded data removed]",
            "text/plain": [
              "<Figure size 432x288 with 1 Axes>"
            ]
          },
          "metadata": {
            "needs_background": "light"
          },
          "output_type": "display_data"
        }
      ],
      "source": [
        "pd.crosstab(df[\"bonus\"], df[\"left\"],normalize=\"columns\").plot(kind=\"bar\");"
      ]
    },
    {
      "cell_type": "markdown",
      "metadata": {
        "id": "Q3NMgsqZqAlt"
      },
      "source": [
        "**Employees with no bonuses are more likely to leave the company over those employees who are earning bonuses**"
      ]
    },
    {
      "cell_type": "code",
      "execution_count": null,
      "metadata": {
        "scrolled": true,
        "id": "bksAZirbqAlt",
        "outputId": "47c83cb0-1ee0-4f99-bd0f-e8fd242c8b6b"
      },
      "outputs": [
        {
          "data": {
            "image/png": "[encoded data removed]",
            "text/plain": [
              "<Figure size 432x288 with 1 Axes>"
            ]
          },
          "metadata": {
            "needs_background": "light"
          },
          "output_type": "display_data"
        }
      ],
      "source": [
        "pd.crosstab(df[\"tenure\"], df[\"left\"],normalize=\"columns\").plot(kind=\"bar\");"
      ]
    },
    {
      "cell_type": "markdown",
      "metadata": {
        "id": "Q1u08zNiqAlu"
      },
      "source": [
        "**Employees after 8 years of working tenure are less likely to turnover. Try to retain employees till at least 8 years by giving them bonuses or other perks for maximum employee retention**"
      ]
    },
    {
      "cell_type": "code",
      "execution_count": null,
      "metadata": {
        "id": "FUpDxo9OqAlu",
        "outputId": "eba1361f-85a8-4390-def3-1fc4b5697e41"
      },
      "outputs": [
        {
          "data": {
            "image/png": "[encoded data removed]",
            "text/plain": [
              "<Figure size 432x288 with 1 Axes>"
            ]
          },
          "metadata": {
            "needs_background": "light"
          },
          "output_type": "display_data"
        }
      ],
      "source": [
        "pd.crosstab(df[\"salary\"], df[\"left\"],normalize=\"columns\").plot(kind=\"bar\");"
      ]
    },
    {
      "cell_type": "markdown",
      "metadata": {
        "id": "9CaKvOZmqAlv"
      },
      "source": [
        "**Employees with a medium salary are more likely to leave the company as compared to employees with high or low salary**"
      ]
    },
    {
      "cell_type": "code",
      "execution_count": null,
      "metadata": {
        "scrolled": true,
        "id": "Id0J-cgzqAlv",
        "outputId": "823c510a-923f-4a75-cd48-f9805e5e52ae"
      },
      "outputs": [
        {
          "data": {
            "image/png": "[encoded data removed]",
            "text/plain": [
              "<Figure size 432x288 with 1 Axes>"
            ]
          },
          "metadata": {
            "needs_background": "light"
          },
          "output_type": "display_data"
        }
      ],
      "source": [
        "pd.crosstab(df[\"department\"], df[\"left\"],normalize=\"columns\").plot(kind=\"bar\");"
      ]
    },
    {
      "cell_type": "markdown",
      "metadata": {
        "id": "vnZcNZf7qAlv"
      },
      "source": [
        "**We can clearly see from the bargraph that employees in IT, Logistics, Marketing, and Retail department are more likely to leave the company as compared to other departments**"
      ]
    },
    {
      "cell_type": "code",
      "execution_count": null,
      "metadata": {
        "id": "WG5UHwsyqAlw",
        "outputId": "d5bb1ee2-c04f-44d4-9fe1-d02dbd72229e"
      },
      "outputs": [
        {
          "data": {
            "image/png": "[encoded data removed]",
            "text/plain": [
              "<Figure size 432x288 with 1 Axes>"
            ]
          },
          "metadata": {
            "needs_background": "light"
          },
          "output_type": "display_data"
        }
      ],
      "source": [
        "pd.crosstab(df[\"promoted\"], df[\"left\"],normalize=\"columns\").plot(kind=\"bar\");"
      ]
    },
    {
      "cell_type": "markdown",
      "metadata": {
        "id": "tZWaAumNqAlz"
      },
      "source": [
        "**From the bargraph it is evident that Employees who have not received a Promotion in the last 2 years are more likely to leave the company**"
      ]
    },
    {
      "cell_type": "code",
      "execution_count": null,
      "metadata": {
        "id": "mKaBifhOqAlz",
        "outputId": "f145aba9-5748-4f91-cb06-0f06e7f3080f"
      },
      "outputs": [
        {
          "data": {
            "image/png": "[encoded data removed]",
            "text/plain": [
              "<Figure size 432x288 with 1 Axes>"
            ]
          },
          "metadata": {
            "needs_background": "light"
          },
          "output_type": "display_data"
        }
      ],
      "source": [
        "pd.crosstab(df[\"projects\"], df[\"left\"],normalize=\"columns\").plot(kind=\"bar\");"
      ]
    },
    {
      "cell_type": "markdown",
      "metadata": {
        "id": "UaafwDYRqAlz"
      },
      "source": [
        "**We can clearly see that employees engaged in 2 and 3 projects are more likely to leave the company due to less responsiblity in the company while employees engaged in more than 3 projects are less likely to leave the company**"
      ]
    },
    {
      "cell_type": "markdown",
      "metadata": {
        "id": "8CIea5_hqAl0"
      },
      "source": [
        "### Following variables seemed to be better predictor of employees departure from the above Data Visualization:\n",
        "\n",
        "- bonus\n",
        "- tenure\n",
        "- salary\n",
        "- department\n",
        "- promoted\n",
        "- projects"
      ]
    },
    {
      "cell_type": "markdown",
      "metadata": {
        "id": "-Ovm_p8ZqAl0"
      },
      "source": [
        "### Research Question 3 (What recommendations would you make regarding ways to reduce employee turnover?)\n",
        "\n",
        "1. The company can give bonuses to the employees based on their performance to appreciate and reduce employee turnover.\n",
        "2. The company should also increase the salary of employees to better retain them. This is one of the most important factor in reducing employee turnover rate.\n",
        "3. Company must change their compensation and benefits plan and replicate similar policies which are followed in the Finance department to reduce employee turnover rate.\n",
        "4. It is very important for the company to improve the policies, offer additional benefits and deeply inspect the IT department which has the highest employee turnover rate.\n",
        "5. The company can also offer flexible working hours and remote working to the employees of IT department for better work-life balance\n",
        "6. The company should frequently promote employees in the span of 2 years and offer additional responsibilities to employees in the form of more projects so they are more involved in the work and they feel like their input and efforts are appreciated and makes a difference."
      ]
    },
    {
      "cell_type": "code",
      "execution_count": null,
      "metadata": {
        "id": "zYCTcWUPqAl0"
      },
      "outputs": [],
      "source": []
    }
  ],
  "metadata": {
    "kernelspec": {
      "display_name": "Python 3",
      "language": "python",
      "name": "python3"
    },
    "language_info": {
      "codemirror_mode": {
        "name": "ipython",
        "version": 3
      },
      "file_extension": ".py",
      "mimetype": "text/x-python",
      "name": "python",
      "nbconvert_exporter": "python",
      "pygments_lexer": "ipython3",
      "version": "3.7.3"
    },
    "colab": {
      "provenance": []
    }
  },
  "nbformat": 4,
  "nbformat_minor": 0
}